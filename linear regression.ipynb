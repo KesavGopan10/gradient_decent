{
 "cells": [
  {
   "cell_type": "code",
   "execution_count": 51,
   "id": "e0a771a4",
   "metadata": {},
   "outputs": [],
   "source": [
    "import numpy as np\n",
    "import matplotlib.pyplot as plt"
   ]
  },
  {
   "cell_type": "code",
   "execution_count": 52,
   "id": "bec0d8e9",
   "metadata": {},
   "outputs": [],
   "source": [
    "x = np.array([1,2,3,4,5])\n",
    "y = np.array([1,2,3,4,5])\n"
   ]
  },
  {
   "cell_type": "code",
   "execution_count": 53,
   "id": "6254abc7",
   "metadata": {},
   "outputs": [],
   "source": [
    "def c(x,y,w,b):\n",
    "    m = x.shape[0]\n",
    "    cost = 0\n",
    "    for i in range(m):\n",
    "        f = w * x[i]+ b \n",
    "        cost = cost + (f - y[i]  )**2\n",
    "    t_cost = 1/(2  *m) * cost \n",
    "    return t_cost"
   ]
  },
  {
   "cell_type": "code",
   "execution_count": 54,
   "id": "de1984f2",
   "metadata": {},
   "outputs": [],
   "source": [
    "def p(x,y,w,b):\n",
    "    m = x.shape[0]\n",
    "    f = np.zeros(m)\n",
    "    for i  in range(m):\n",
    "        f[i]= w * x[i]+ b \n",
    "       \n",
    "    return f"
   ]
  },
  {
   "cell_type": "code",
   "execution_count": 55,
   "id": "25b4e0d8",
   "metadata": {},
   "outputs": [],
   "source": [
    "def g(x,y,w,b):\n",
    "    m = x.shape[0]\n",
    "    d_w = 0\n",
    "    d_b = 0\n",
    "    for i in range(m):\n",
    "        f  = w * x[i] + b\n",
    "        d_ww = (f - y[i] ) * x[i]\n",
    "        d_bb = f - y[i] \n",
    "        d_w += d_ww\n",
    "        d_b += d_bb\n",
    "    d__w = d_w / m\n",
    "    d__b = d_b  / m\n",
    "    return d__w , d__b"
   ]
  },
  {
   "cell_type": "code",
   "execution_count": 56,
   "id": "f31f594a",
   "metadata": {},
   "outputs": [],
   "source": [
    "def d(x, y, w_in , b_in , i , a,c,g):\n",
    "    w = w_in\n",
    "    b = b_in\n",
    "    for i in range(i):\n",
    "        d__w , d__b = g(x,y,w,b)\n",
    "        w = w- a  *  d__w\n",
    "        b =  b - a  *  d__b \n",
    "    return w , b "
   ]
  },
  {
   "cell_type": "code",
   "execution_count": 57,
   "id": "c34934c8",
   "metadata": {},
   "outputs": [
    {
     "name": "stdout",
     "output_type": "stream",
     "text": [
      "w = 0.999999996801635 b = 1.1547112700349464e-08\n"
     ]
    }
   ],
   "source": [
    "w_in = 0 \n",
    "b_in = 0 \n",
    "a = 1.0e-2\n",
    "\n",
    "w,b = d(x,y,w_in,b_in, 10000 , a ,c ,  g)\n",
    "print(f'w = {w} b = {b}')"
   ]
  },
  {
   "cell_type": "code",
   "execution_count": 58,
   "id": "510eb225",
   "metadata": {},
   "outputs": [
    {
     "data": {
      "image/png": "[encoded data removed]",
      "text/plain": [
       "<Figure size 640x480 with 1 Axes>"
      ]
     },
     "metadata": {},
     "output_type": "display_data"
    }
   ],
   "source": [
    "plt.plot(x,p(x,y,w,b),label='value' , c='g' )\n",
    "plt.scatter(x,y,marker='x' , c='b')\n",
    "plt.show()"
   ]
  },
  {
   "cell_type": "code",
   "execution_count": 60,
   "id": "1f7b2b7b",
   "metadata": {},
   "outputs": [
    {
     "name": "stdout",
     "output_type": "stream",
     "text": [
      "value30\n",
      "value = 29.99999991559616 \n"
     ]
    }
   ],
   "source": [
    "value = int(input('value'))\n",
    "vc = w *  value + b\n",
    "print(f'value = {vc} ')"
   ]
  },
  {
   "cell_type": "code",
   "execution_count": null,
   "id": "9c768be3",
   "metadata": {},
   "outputs": [],
   "source": []
  }
 ],
 "metadata": {
  "kernelspec": {
   "display_name": "Python 3 (ipykernel)",
   "language": "python",
   "name": "python3"
  },
  "language_info": {
   "codemirror_mode": {
    "name": "ipython",
    "version": 3
   },
   "file_extension": ".py",
   "mimetype": "text/x-python",
   "name": "python",
   "nbconvert_exporter": "python",
   "pygments_lexer": "ipython3",
   "version": "3.10.9"
  }
 },
 "nbformat": 4,
 "nbformat_minor": 5
}
